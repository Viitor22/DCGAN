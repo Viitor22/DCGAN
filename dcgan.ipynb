{
 "cells": [
  {
   "cell_type": "code",
   "execution_count": 1,
   "id": "c98841c3",
   "metadata": {
    "_cell_guid": "b1076dfc-b9ad-4769-8c92-a6c4dae69d19",
    "_uuid": "8f2839f25d086af736a60e9eeb907d3b93b6e0e5",
    "execution": {
     "iopub.execute_input": "2025-05-05T01:04:54.396996Z",
     "iopub.status.busy": "2025-05-05T01:04:54.396776Z",
     "iopub.status.idle": "2025-05-05T01:04:59.719040Z",
     "shell.execute_reply": "2025-05-05T01:04:59.718459Z"
    },
    "papermill": {
     "duration": 5.327613,
     "end_time": "2025-05-05T01:04:59.720327",
     "exception": false,
     "start_time": "2025-05-05T01:04:54.392714",
     "status": "completed"
    },
    "tags": []
   },
   "outputs": [],
   "source": [
    "import torch\n",
    "import torch.nn as nn\n",
    "\n",
    "class Discriminator(nn.Module):\n",
    "    def __init__(self, channels_img, features_d):\n",
    "        super(Discriminator, self).__init__()\n",
    "        self.disc = nn.Sequential(\n",
    "            #Input: N x channels_img x 64 x 64\n",
    "            nn.Conv2d(\n",
    "                channels_img, features_d, kernel_size=4, stride=2, padding=1\n",
    "            ),\n",
    "            nn.LeakyReLU(0.2),\n",
    "            self._block(features_d, features_d*2,4,2,1), #16x16\n",
    "            self._block(features_d*2, features_d*4,4,2,1),#8x8\n",
    "            self._block(features_d*4, features_d*8,4,2,1), #4x4\n",
    "            nn.Conv2d(features_d*8, 1, kernel_size=4, stride=2, padding=0), #1x1\n",
    "            nn.Sigmoid(),\n",
    "        )\n",
    "\n",
    "    def _block(self, in_channels, out_channels, kernel_size, stride, padding):\n",
    "        return nn.Sequential(\n",
    "            nn.Conv2d(\n",
    "                in_channels,\n",
    "                out_channels,\n",
    "                kernel_size,\n",
    "                stride,\n",
    "                padding,\n",
    "                bias = False\n",
    "            ),\n",
    "            nn.BatchNorm2d(out_channels),\n",
    "            nn.LeakyReLU(0.2), \n",
    "        )\n",
    "        \n",
    "    def forward(self, x):\n",
    "        return self.disc(x)"
   ]
  },
  {
   "cell_type": "code",
   "execution_count": 2,
   "id": "9c0afa77",
   "metadata": {
    "execution": {
     "iopub.execute_input": "2025-05-05T01:04:59.727354Z",
     "iopub.status.busy": "2025-05-05T01:04:59.727064Z",
     "iopub.status.idle": "2025-05-05T01:04:59.733247Z",
     "shell.execute_reply": "2025-05-05T01:04:59.732619Z"
    },
    "papermill": {
     "duration": 0.010919,
     "end_time": "2025-05-05T01:04:59.734478",
     "exception": false,
     "start_time": "2025-05-05T01:04:59.723559",
     "status": "completed"
    },
    "tags": []
   },
   "outputs": [],
   "source": [
    "class Generator(nn.Module):\n",
    "    def __init__(self, z_dim, channels_img, features_g):\n",
    "        super(Generator, self).__init__()\n",
    "        self.gen = nn.Sequential(\n",
    "            self._block(z_dim,features_g*16, 4, 1, 0), # N x f_g*16 x 4 x 4\n",
    "            self._block(features_g*16, features_g*8, 4, 2, 1), #8x8\n",
    "            self._block(features_g*8, features_g*4, 4, 2, 1), #16x16\n",
    "            self._block(features_g*4, features_g*2, 4, 2, 1), #32x32\n",
    "            nn.ConvTranspose2d(\n",
    "                features_g*2, channels_img, kernel_size=4, stride=2, padding=1\n",
    "            ),\n",
    "            nn.Tanh(), # [-1,1]\n",
    "        )\n",
    "    def _block(self, in_channels, out_channels, kernel_size, stride, padding):\n",
    "        return nn.Sequential(\n",
    "            nn.ConvTranspose2d(\n",
    "                in_channels,\n",
    "                out_channels, \n",
    "                kernel_size, \n",
    "                stride, \n",
    "                padding, \n",
    "                bias=False\n",
    "            ),\n",
    "            nn.BatchNorm2d(out_channels),\n",
    "            nn.ReLU(),\n",
    "        )\n",
    "    def forward(self, x):\n",
    "        return self.gen(x)"
   ]
  },
  {
   "cell_type": "code",
   "execution_count": 3,
   "id": "cd194930",
   "metadata": {
    "execution": {
     "iopub.execute_input": "2025-05-05T01:04:59.741021Z",
     "iopub.status.busy": "2025-05-05T01:04:59.740756Z",
     "iopub.status.idle": "2025-05-05T01:04:59.744888Z",
     "shell.execute_reply": "2025-05-05T01:04:59.744251Z"
    },
    "papermill": {
     "duration": 0.008558,
     "end_time": "2025-05-05T01:04:59.745982",
     "exception": false,
     "start_time": "2025-05-05T01:04:59.737424",
     "status": "completed"
    },
    "tags": []
   },
   "outputs": [],
   "source": [
    "  def initialize_weights(model):\n",
    "        for m in model.modules():\n",
    "            if isinstance(m, (nn.Conv2d, nn.ConvTranspose2d, nn.BatchNorm2d)):\n",
    "                nn.init.normal_(m.weight.data, 0.0, 0.02)          "
   ]
  },
  {
   "cell_type": "code",
   "execution_count": 4,
   "id": "482a4734",
   "metadata": {
    "execution": {
     "iopub.execute_input": "2025-05-05T01:04:59.752093Z",
     "iopub.status.busy": "2025-05-05T01:04:59.751864Z",
     "iopub.status.idle": "2025-05-05T01:04:59.756438Z",
     "shell.execute_reply": "2025-05-05T01:04:59.755926Z"
    },
    "papermill": {
     "duration": 0.008878,
     "end_time": "2025-05-05T01:04:59.757568",
     "exception": false,
     "start_time": "2025-05-05T01:04:59.748690",
     "status": "completed"
    },
    "tags": []
   },
   "outputs": [],
   "source": [
    " def test():\n",
    "     N, in_channels, H, W = 8,3,64,64\n",
    "     z_dim = 100\n",
    "     x = torch.randn((N, in_channels, H, W))\n",
    "     disc = Discriminator(in_channels, 8)\n",
    "     initialize_weights(disc)\n",
    "     assert disc(x).shape == (N,1,1,1)\n",
    "     gen = Generator(z_dim, in_channels, 8)\n",
    "     initialize_weights(gen)\n",
    "     z = torch.randn((N, z_dim, 1, 1))\n",
    "     assert gen(z).shape == (N, in_channels, H, W)\n",
    "     print(\"Success\")"
   ]
  },
  {
   "cell_type": "code",
   "execution_count": 5,
   "id": "967d113a",
   "metadata": {
    "execution": {
     "iopub.execute_input": "2025-05-05T01:04:59.763812Z",
     "iopub.status.busy": "2025-05-05T01:04:59.763539Z",
     "iopub.status.idle": "2025-05-05T01:05:00.121146Z",
     "shell.execute_reply": "2025-05-05T01:05:00.119758Z"
    },
    "papermill": {
     "duration": 0.362499,
     "end_time": "2025-05-05T01:05:00.122829",
     "exception": false,
     "start_time": "2025-05-05T01:04:59.760330",
     "status": "completed"
    },
    "tags": []
   },
   "outputs": [
    {
     "name": "stdout",
     "output_type": "stream",
     "text": [
      "Success\n"
     ]
    }
   ],
   "source": [
    "test()"
   ]
  },
  {
   "cell_type": "code",
   "execution_count": 6,
   "id": "f98697ab",
   "metadata": {
    "execution": {
     "iopub.execute_input": "2025-05-05T01:05:00.132135Z",
     "iopub.status.busy": "2025-05-05T01:05:00.131318Z",
     "iopub.status.idle": "2025-05-05T01:05:00.135199Z",
     "shell.execute_reply": "2025-05-05T01:05:00.134462Z"
    },
    "papermill": {
     "duration": 0.010419,
     "end_time": "2025-05-05T01:05:00.136660",
     "exception": false,
     "start_time": "2025-05-05T01:05:00.126241",
     "status": "completed"
    },
    "tags": []
   },
   "outputs": [],
   "source": [
    "# !ping -c 3 google.com\n",
    "# %pip install --upgrade pip\n",
    "# %pip install --upgrade torchvision\n",
    "# %pip install torch torchvision torchaudio --index-url https://download.pytorch.org/whl/cpu"
   ]
  },
  {
   "cell_type": "code",
   "execution_count": 7,
   "id": "d8a1d5ba",
   "metadata": {
    "execution": {
     "iopub.execute_input": "2025-05-05T01:05:00.143464Z",
     "iopub.status.busy": "2025-05-05T01:05:00.143180Z",
     "iopub.status.idle": "2025-05-05T01:05:23.238896Z",
     "shell.execute_reply": "2025-05-05T01:05:23.238093Z"
    },
    "papermill": {
     "duration": 23.100679,
     "end_time": "2025-05-05T01:05:23.240334",
     "exception": false,
     "start_time": "2025-05-05T01:05:00.139655",
     "status": "completed"
    },
    "tags": []
   },
   "outputs": [
    {
     "name": "stderr",
     "output_type": "stream",
     "text": [
      "2025-05-05 01:05:08.300225: E external/local_xla/xla/stream_executor/cuda/cuda_fft.cc:477] Unable to register cuFFT factory: Attempting to register factory for plugin cuFFT when one has already been registered\n",
      "WARNING: All log messages before absl::InitializeLog() is called are written to STDERR\n",
      "E0000 00:00:1746407108.629379      19 cuda_dnn.cc:8310] Unable to register cuDNN factory: Attempting to register factory for plugin cuDNN when one has already been registered\n",
      "E0000 00:00:1746407108.707959      19 cuda_blas.cc:1418] Unable to register cuBLAS factory: Attempting to register factory for plugin cuBLAS when one has already been registered\n"
     ]
    }
   ],
   "source": [
    "import torch.optim as optim\n",
    "import torchvision\n",
    "from torchvision import datasets as datasets\n",
    "import torchvision.transforms as T\n",
    "from torch.utils.data import DataLoader\n",
    "from torch.utils.tensorboard import SummaryWriter"
   ]
  },
  {
   "cell_type": "markdown",
   "id": "22e66111",
   "metadata": {
    "papermill": {
     "duration": 0.002639,
     "end_time": "2025-05-05T01:05:23.246021",
     "exception": false,
     "start_time": "2025-05-05T01:05:23.243382",
     "status": "completed"
    },
    "tags": []
   },
   "source": [
    "**Hyperparametros**"
   ]
  },
  {
   "cell_type": "code",
   "execution_count": 8,
   "id": "a131ee62",
   "metadata": {
    "execution": {
     "iopub.execute_input": "2025-05-05T01:05:23.253319Z",
     "iopub.status.busy": "2025-05-05T01:05:23.252270Z",
     "iopub.status.idle": "2025-05-05T01:05:23.351205Z",
     "shell.execute_reply": "2025-05-05T01:05:23.350379Z"
    },
    "papermill": {
     "duration": 0.103844,
     "end_time": "2025-05-05T01:05:23.352550",
     "exception": false,
     "start_time": "2025-05-05T01:05:23.248706",
     "status": "completed"
    },
    "tags": []
   },
   "outputs": [],
   "source": [
    "device = torch.device(\"cuda\" if torch.cuda.is_available() else \"cpu\")\n",
    "LEARNING_RATE = 2e-4\n",
    "BATCH_SIZE = 128\n",
    "IMAGE_SIZE = 64\n",
    "CHANNELS_IMG = 3\n",
    "Z_DIM = 100\n",
    "NUM_EPOCHS = 5\n",
    "FEATURES_DISC = 64\n",
    "FEATURES_GEN = 64"
   ]
  },
  {
   "cell_type": "code",
   "execution_count": 9,
   "id": "551b9af1",
   "metadata": {
    "execution": {
     "iopub.execute_input": "2025-05-05T01:05:23.358875Z",
     "iopub.status.busy": "2025-05-05T01:05:23.358630Z",
     "iopub.status.idle": "2025-05-05T01:05:23.362712Z",
     "shell.execute_reply": "2025-05-05T01:05:23.362090Z"
    },
    "papermill": {
     "duration": 0.008536,
     "end_time": "2025-05-05T01:05:23.363804",
     "exception": false,
     "start_time": "2025-05-05T01:05:23.355268",
     "status": "completed"
    },
    "tags": []
   },
   "outputs": [],
   "source": [
    "transforms = T.Compose(\n",
    "    [\n",
    "        T.Resize(IMAGE_SIZE),\n",
    "        T.ToTensor(),\n",
    "        T.Normalize([0.5 for _ in range(CHANNELS_IMG)], [0.5 for _ in range(CHANNELS_IMG)]),\n",
    "    ]\n",
    ")"
   ]
  },
  {
   "cell_type": "code",
   "execution_count": 10,
   "id": "4cb8f1d0",
   "metadata": {
    "execution": {
     "iopub.execute_input": "2025-05-05T01:05:23.369888Z",
     "iopub.status.busy": "2025-05-05T01:05:23.369489Z",
     "iopub.status.idle": "2025-05-05T01:05:44.470301Z",
     "shell.execute_reply": "2025-05-05T01:05:44.469624Z"
    },
    "papermill": {
     "duration": 21.105331,
     "end_time": "2025-05-05T01:05:44.471680",
     "exception": false,
     "start_time": "2025-05-05T01:05:23.366349",
     "status": "completed"
    },
    "tags": []
   },
   "outputs": [],
   "source": [
    "# dataset = datasets.MNIST(\n",
    "#     root=\"dataset/\", \n",
    "#     train=True,\n",
    "#     transform=transforms,\n",
    "#     download=True,\n",
    "# )\n",
    "\n",
    "##Dataset MNSIT\n",
    "# dataset = datasets.ImageFolder(\n",
    "#     \"/kaggle/input/mnsit-dataset\",\n",
    "#     transform=transforms\n",
    "# )\n",
    "\n",
    "dataset = datasets.ImageFolder(\n",
    "    \"/kaggle/input/celebahq256-images-only\",\n",
    "    transform=transforms\n",
    ")"
   ]
  },
  {
   "cell_type": "code",
   "execution_count": 11,
   "id": "021802e6",
   "metadata": {
    "execution": {
     "iopub.execute_input": "2025-05-05T01:05:44.478037Z",
     "iopub.status.busy": "2025-05-05T01:05:44.477819Z",
     "iopub.status.idle": "2025-05-05T01:05:44.882324Z",
     "shell.execute_reply": "2025-05-05T01:05:44.881504Z"
    },
    "papermill": {
     "duration": 0.409299,
     "end_time": "2025-05-05T01:05:44.883829",
     "exception": false,
     "start_time": "2025-05-05T01:05:44.474530",
     "status": "completed"
    },
    "tags": []
   },
   "outputs": [],
   "source": [
    "loader = torch.utils.data.DataLoader(dataset, batch_size=BATCH_SIZE, shuffle=True)\n",
    "gen = Generator(Z_DIM, CHANNELS_IMG, FEATURES_GEN).to(device)\n",
    "disc = Discriminator(CHANNELS_IMG, FEATURES_DISC).to(device)\n",
    "initialize_weights(gen)\n",
    "initialize_weights(disc)"
   ]
  },
  {
   "cell_type": "code",
   "execution_count": 12,
   "id": "b52b0f7a",
   "metadata": {
    "execution": {
     "iopub.execute_input": "2025-05-05T01:05:44.890063Z",
     "iopub.status.busy": "2025-05-05T01:05:44.889806Z",
     "iopub.status.idle": "2025-05-05T01:05:44.897317Z",
     "shell.execute_reply": "2025-05-05T01:05:44.896523Z"
    },
    "papermill": {
     "duration": 0.011925,
     "end_time": "2025-05-05T01:05:44.898462",
     "exception": false,
     "start_time": "2025-05-05T01:05:44.886537",
     "status": "completed"
    },
    "tags": []
   },
   "outputs": [],
   "source": [
    "opt_gen = optim.Adam(gen.parameters(), lr=LEARNING_RATE, betas=(0.5, 0.999))\n",
    "opt_disc = optim.Adam(disc.parameters(), lr=LEARNING_RATE, betas=(0.5, 0.999))\n",
    "criterion = nn.BCELoss()\n",
    "\n",
    "fixed_noise = torch.randn(32, Z_DIM, 1,1).to(device)\n",
    "writer_real = SummaryWriter(f\"logs/real\")\n",
    "writer_fake = SummaryWriter(f\"logs/fake\")\n",
    "step = 0"
   ]
  },
  {
   "cell_type": "code",
   "execution_count": 13,
   "id": "d19684c6",
   "metadata": {
    "execution": {
     "iopub.execute_input": "2025-05-05T01:05:44.904337Z",
     "iopub.status.busy": "2025-05-05T01:05:44.904129Z",
     "iopub.status.idle": "2025-05-05T01:17:51.042874Z",
     "shell.execute_reply": "2025-05-05T01:17:51.041892Z"
    },
    "papermill": {
     "duration": 726.143434,
     "end_time": "2025-05-05T01:17:51.044542",
     "exception": false,
     "start_time": "2025-05-05T01:05:44.901108",
     "status": "completed"
    },
    "tags": []
   },
   "outputs": [
    {
     "name": "stdout",
     "output_type": "stream",
     "text": [
      "Epoch [0/5] Batch 0/235 \\ Loss D: 0.6880, loss G: 0.7970\n",
      "Epoch [0/5] Batch 100/235 \\ Loss D: 0.0257, loss G: 3.7894\n",
      "Epoch [0/5] Batch 200/235 \\ Loss D: 0.4776, loss G: 2.1897\n",
      "Epoch [1/5] Batch 0/235 \\ Loss D: 0.4126, loss G: 1.9187\n",
      "Epoch [1/5] Batch 100/235 \\ Loss D: 0.6031, loss G: 1.6967\n",
      "Epoch [1/5] Batch 200/235 \\ Loss D: 0.7021, loss G: 1.0030\n",
      "Epoch [2/5] Batch 0/235 \\ Loss D: 0.6511, loss G: 1.3044\n",
      "Epoch [2/5] Batch 100/235 \\ Loss D: 0.5300, loss G: 1.2238\n",
      "Epoch [2/5] Batch 200/235 \\ Loss D: 0.5726, loss G: 1.7945\n",
      "Epoch [3/5] Batch 0/235 \\ Loss D: 0.5837, loss G: 1.4620\n",
      "Epoch [3/5] Batch 100/235 \\ Loss D: 0.5430, loss G: 2.1590\n",
      "Epoch [3/5] Batch 200/235 \\ Loss D: 0.5367, loss G: 1.7734\n",
      "Epoch [4/5] Batch 0/235 \\ Loss D: 0.6181, loss G: 1.4330\n",
      "Epoch [4/5] Batch 100/235 \\ Loss D: 0.5801, loss G: 0.9887\n",
      "Epoch [4/5] Batch 200/235 \\ Loss D: 0.5882, loss G: 1.7871\n"
     ]
    }
   ],
   "source": [
    "gen.train()\n",
    "disc.train()\n",
    "\n",
    "for epoch in range(NUM_EPOCHS):\n",
    "    for batch_idx, (real, _) in enumerate(loader):\n",
    "        real = real.to(device)\n",
    "        noise = torch.randn((BATCH_SIZE,Z_DIM, 1,1)).to(device)\n",
    "        fake = gen(noise)\n",
    "    \n",
    "\n",
    "        ### Train Discriminator max log(D(x)) + log(1- D(G(z)))\n",
    "        disc_real = disc(real).reshape(-1)\n",
    "        loss_disc_real = criterion(disc_real, torch.ones_like(disc_real))\n",
    "        disc_fake = disc(fake).reshape(-1)\n",
    "        loss_disc_fake = criterion(disc_fake, torch.zeros_like(disc_fake))\n",
    "        loss_disc = (loss_disc_real + loss_disc_fake ) / 2\n",
    "        disc.zero_grad()\n",
    "        loss_disc.backward(retain_graph=True)\n",
    "        opt_disc.step()\n",
    "\n",
    "        ### Train Discriminator min log(1 - D(G(z))) <--> max log(D(G(z)))\n",
    "        output = disc(fake).reshape(-1)\n",
    "        loss_gen = criterion(output, torch.ones_like(output))\n",
    "        gen.zero_grad()\n",
    "        loss_gen.backward()\n",
    "        opt_gen.step()\n",
    "\n",
    "        if batch_idx % 100 == 0:\n",
    "            print(\n",
    "                f\"Epoch [{epoch}/{NUM_EPOCHS}] Batch {batch_idx}/{len(loader)} \\ Loss D: {loss_disc:.4f}, loss G: {loss_gen:.4f}\"\n",
    "            )\n",
    "\n",
    "            with torch.no_grad():\n",
    "                fake = gen(fixed_noise)\n",
    "\n",
    "                img_grid_real = torchvision.utils.make_grid(\n",
    "                    real[:32], normalize=True\n",
    "                )\n",
    "                img_grid_fake = torchvision.utils.make_grid(\n",
    "                    fake[:32], normalize=True\n",
    "                )\n",
    "\n",
    "                writer_real.add_image(\"Real\", img_grid_real, global_step=step)\n",
    "                writer_real.add_image(\"Fake\", img_grid_fake, global_step=step)\n",
    "                \n",
    "            step += 1"
   ]
  }
 ],
 "metadata": {
  "kaggle": {
   "accelerator": "nvidiaTeslaT4",
   "dataSources": [
    {
     "datasetId": 2531154,
     "sourceId": 4295537,
     "sourceType": "datasetVersion"
    },
    {
     "datasetId": 5007759,
     "sourceId": 8413520,
     "sourceType": "datasetVersion"
    }
   ],
   "dockerImageVersionId": 31012,
   "isGpuEnabled": true,
   "isInternetEnabled": false,
   "language": "python",
   "sourceType": "notebook"
  },
  "kernelspec": {
   "display_name": "Python 3",
   "language": "python",
   "name": "python3"
  },
  "language_info": {
   "codemirror_mode": {
    "name": "ipython",
    "version": 3
   },
   "file_extension": ".py",
   "mimetype": "text/x-python",
   "name": "python",
   "nbconvert_exporter": "python",
   "pygments_lexer": "ipython3",
   "version": "3.11.11"
  },
  "papermill": {
   "default_parameters": {},
   "duration": 784.87742,
   "end_time": "2025-05-05T01:17:54.243166",
   "environment_variables": {},
   "exception": null,
   "input_path": "__notebook__.ipynb",
   "output_path": "__notebook__.ipynb",
   "parameters": {},
   "start_time": "2025-05-05T01:04:49.365746",
   "version": "2.6.0"
  }
 },
 "nbformat": 4,
 "nbformat_minor": 5
}
