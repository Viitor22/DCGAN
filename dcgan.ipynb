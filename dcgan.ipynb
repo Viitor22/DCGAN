{
 "cells": [
  {
   "cell_type": "code",
   "execution_count": 1,
   "id": "6faf2da8",
   "metadata": {
    "_cell_guid": "b1076dfc-b9ad-4769-8c92-a6c4dae69d19",
    "_uuid": "8f2839f25d086af736a60e9eeb907d3b93b6e0e5",
    "execution": {
     "iopub.execute_input": "2025-05-05T15:44:45.001465Z",
     "iopub.status.busy": "2025-05-05T15:44:45.001215Z",
     "iopub.status.idle": "2025-05-05T15:44:49.465552Z",
     "shell.execute_reply": "2025-05-05T15:44:49.464768Z"
    },
    "papermill": {
     "duration": 4.470022,
     "end_time": "2025-05-05T15:44:49.466992",
     "exception": false,
     "start_time": "2025-05-05T15:44:44.996970",
     "status": "completed"
    },
    "tags": []
   },
   "outputs": [],
   "source": [
    "import torch\n",
    "import torch.nn as nn\n",
    "\n",
    "class Discriminator(nn.Module):\n",
    "    def __init__(self, channels_img, features_d):\n",
    "        super(Discriminator, self).__init__()\n",
    "        self.disc = nn.Sequential(\n",
    "            #Input: N x channels_img x 64 x 64\n",
    "            nn.Conv2d(\n",
    "                channels_img, features_d, kernel_size=4, stride=2, padding=1\n",
    "            ),\n",
    "            nn.LeakyReLU(0.2),\n",
    "            self._block(features_d, features_d*2,4,2,1), #16x16\n",
    "            self._block(features_d*2, features_d*4,4,2,1),#8x8\n",
    "            self._block(features_d*4, features_d*8,4,2,1), #4x4\n",
    "            nn.Conv2d(features_d*8, 1, kernel_size=4, stride=2, padding=0), #1x1\n",
    "            nn.Sigmoid(),\n",
    "        )\n",
    "\n",
    "    def _block(self, in_channels, out_channels, kernel_size, stride, padding):\n",
    "        return nn.Sequential(\n",
    "            nn.Conv2d(\n",
    "                in_channels,\n",
    "                out_channels,\n",
    "                kernel_size,\n",
    "                stride,\n",
    "                padding,\n",
    "                bias = False\n",
    "            ),\n",
    "            nn.BatchNorm2d(out_channels),\n",
    "            nn.LeakyReLU(0.2), \n",
    "        )\n",
    "        \n",
    "    def forward(self, x):\n",
    "        return self.disc(x)"
   ]
  },
  {
   "cell_type": "code",
   "execution_count": 2,
   "id": "82d3c645",
   "metadata": {
    "execution": {
     "iopub.execute_input": "2025-05-05T15:44:49.473899Z",
     "iopub.status.busy": "2025-05-05T15:44:49.473412Z",
     "iopub.status.idle": "2025-05-05T15:44:49.479385Z",
     "shell.execute_reply": "2025-05-05T15:44:49.478694Z"
    },
    "papermill": {
     "duration": 0.010302,
     "end_time": "2025-05-05T15:44:49.480437",
     "exception": false,
     "start_time": "2025-05-05T15:44:49.470135",
     "status": "completed"
    },
    "tags": []
   },
   "outputs": [],
   "source": [
    "class Generator(nn.Module):\n",
    "    def __init__(self, z_dim, channels_img, features_g):\n",
    "        super(Generator, self).__init__()\n",
    "        self.gen = nn.Sequential(\n",
    "            self._block(z_dim,features_g*16, 4, 1, 0), # N x f_g*16 x 4 x 4\n",
    "            self._block(features_g*16, features_g*8, 4, 2, 1), #8x8\n",
    "            self._block(features_g*8, features_g*4, 4, 2, 1), #16x16\n",
    "            self._block(features_g*4, features_g*2, 4, 2, 1), #32x32\n",
    "            nn.ConvTranspose2d(\n",
    "                features_g*2, channels_img, kernel_size=4, stride=2, padding=1\n",
    "            ),\n",
    "            nn.Tanh(), # [-1,1]\n",
    "        )\n",
    "    def _block(self, in_channels, out_channels, kernel_size, stride, padding):\n",
    "        return nn.Sequential(\n",
    "            nn.ConvTranspose2d(\n",
    "                in_channels,\n",
    "                out_channels, \n",
    "                kernel_size, \n",
    "                stride, \n",
    "                padding, \n",
    "                bias=False\n",
    "            ),\n",
    "            nn.BatchNorm2d(out_channels),\n",
    "            nn.ReLU(),\n",
    "        )\n",
    "    def forward(self, x):\n",
    "        return self.gen(x)"
   ]
  },
  {
   "cell_type": "code",
   "execution_count": 3,
   "id": "0ad14f0f",
   "metadata": {
    "execution": {
     "iopub.execute_input": "2025-05-05T15:44:49.486507Z",
     "iopub.status.busy": "2025-05-05T15:44:49.485988Z",
     "iopub.status.idle": "2025-05-05T15:44:49.489571Z",
     "shell.execute_reply": "2025-05-05T15:44:49.489056Z"
    },
    "papermill": {
     "duration": 0.007555,
     "end_time": "2025-05-05T15:44:49.490553",
     "exception": false,
     "start_time": "2025-05-05T15:44:49.482998",
     "status": "completed"
    },
    "tags": []
   },
   "outputs": [],
   "source": [
    "  def initialize_weights(model):\n",
    "        for m in model.modules():\n",
    "            if isinstance(m, (nn.Conv2d, nn.ConvTranspose2d, nn.BatchNorm2d)):\n",
    "                nn.init.normal_(m.weight.data, 0.0, 0.02)          "
   ]
  },
  {
   "cell_type": "code",
   "execution_count": 4,
   "id": "e68e2d29",
   "metadata": {
    "execution": {
     "iopub.execute_input": "2025-05-05T15:44:49.496586Z",
     "iopub.status.busy": "2025-05-05T15:44:49.496397Z",
     "iopub.status.idle": "2025-05-05T15:44:49.500546Z",
     "shell.execute_reply": "2025-05-05T15:44:49.500005Z"
    },
    "papermill": {
     "duration": 0.008233,
     "end_time": "2025-05-05T15:44:49.501532",
     "exception": false,
     "start_time": "2025-05-05T15:44:49.493299",
     "status": "completed"
    },
    "tags": []
   },
   "outputs": [],
   "source": [
    " def test():\n",
    "     N, in_channels, H, W = 8,3,64,64\n",
    "     z_dim = 100\n",
    "     x = torch.randn((N, in_channels, H, W))\n",
    "     disc = Discriminator(in_channels, 8)\n",
    "     initialize_weights(disc)\n",
    "     assert disc(x).shape == (N,1,1,1)\n",
    "     gen = Generator(z_dim, in_channels, 8)\n",
    "     initialize_weights(gen)\n",
    "     z = torch.randn((N, z_dim, 1, 1))\n",
    "     assert gen(z).shape == (N, in_channels, H, W)\n",
    "     print(\"Success\")"
   ]
  },
  {
   "cell_type": "code",
   "execution_count": 5,
   "id": "e14f9638",
   "metadata": {
    "execution": {
     "iopub.execute_input": "2025-05-05T15:44:49.508343Z",
     "iopub.status.busy": "2025-05-05T15:44:49.508152Z",
     "iopub.status.idle": "2025-05-05T15:44:49.805944Z",
     "shell.execute_reply": "2025-05-05T15:44:49.804868Z"
    },
    "papermill": {
     "duration": 0.302179,
     "end_time": "2025-05-05T15:44:49.807292",
     "exception": false,
     "start_time": "2025-05-05T15:44:49.505113",
     "status": "completed"
    },
    "tags": []
   },
   "outputs": [
    {
     "name": "stdout",
     "output_type": "stream",
     "text": [
      "Success\n"
     ]
    }
   ],
   "source": [
    "test()"
   ]
  },
  {
   "cell_type": "code",
   "execution_count": 6,
   "id": "8fce2a1a",
   "metadata": {
    "execution": {
     "iopub.execute_input": "2025-05-05T15:44:49.814120Z",
     "iopub.status.busy": "2025-05-05T15:44:49.813622Z",
     "iopub.status.idle": "2025-05-05T15:44:49.816988Z",
     "shell.execute_reply": "2025-05-05T15:44:49.816247Z"
    },
    "papermill": {
     "duration": 0.007856,
     "end_time": "2025-05-05T15:44:49.818105",
     "exception": false,
     "start_time": "2025-05-05T15:44:49.810249",
     "status": "completed"
    },
    "tags": []
   },
   "outputs": [],
   "source": [
    "# !ping -c 3 google.com\n",
    "# %pip install --upgrade pip\n",
    "# %pip install --upgrade torchvision\n",
    "# %pip install torch torchvision torchaudio --index-url https://download.pytorch.org/whl/cpu"
   ]
  },
  {
   "cell_type": "code",
   "execution_count": 7,
   "id": "c1f73c2b",
   "metadata": {
    "execution": {
     "iopub.execute_input": "2025-05-05T15:44:49.824445Z",
     "iopub.status.busy": "2025-05-05T15:44:49.823982Z",
     "iopub.status.idle": "2025-05-05T15:45:10.496708Z",
     "shell.execute_reply": "2025-05-05T15:45:10.496153Z"
    },
    "papermill": {
     "duration": 20.677114,
     "end_time": "2025-05-05T15:45:10.497974",
     "exception": false,
     "start_time": "2025-05-05T15:44:49.820860",
     "status": "completed"
    },
    "tags": []
   },
   "outputs": [
    {
     "name": "stderr",
     "output_type": "stream",
     "text": [
      "2025-05-05 15:44:57.068852: E external/local_xla/xla/stream_executor/cuda/cuda_fft.cc:477] Unable to register cuFFT factory: Attempting to register factory for plugin cuFFT when one has already been registered\n",
      "WARNING: All log messages before absl::InitializeLog() is called are written to STDERR\n",
      "E0000 00:00:1746459897.329435      19 cuda_dnn.cc:8310] Unable to register cuDNN factory: Attempting to register factory for plugin cuDNN when one has already been registered\n",
      "E0000 00:00:1746459897.402057      19 cuda_blas.cc:1418] Unable to register cuBLAS factory: Attempting to register factory for plugin cuBLAS when one has already been registered\n"
     ]
    }
   ],
   "source": [
    "import torch.optim as optim\n",
    "import torchvision\n",
    "from torchvision import datasets as datasets\n",
    "import torchvision.transforms as T\n",
    "from torch.utils.data import DataLoader\n",
    "from torch.utils.tensorboard import SummaryWriter\n",
    "import os\n",
    "import torchvision.utils as vutils"
   ]
  },
  {
   "cell_type": "markdown",
   "id": "5773730b",
   "metadata": {
    "papermill": {
     "duration": 0.002733,
     "end_time": "2025-05-05T15:45:10.503845",
     "exception": false,
     "start_time": "2025-05-05T15:45:10.501112",
     "status": "completed"
    },
    "tags": []
   },
   "source": [
    "**Hyperparametros**"
   ]
  },
  {
   "cell_type": "code",
   "execution_count": 8,
   "id": "74a0d409",
   "metadata": {
    "execution": {
     "iopub.execute_input": "2025-05-05T15:45:10.510765Z",
     "iopub.status.busy": "2025-05-05T15:45:10.509932Z",
     "iopub.status.idle": "2025-05-05T15:45:10.603274Z",
     "shell.execute_reply": "2025-05-05T15:45:10.602476Z"
    },
    "papermill": {
     "duration": 0.097787,
     "end_time": "2025-05-05T15:45:10.604423",
     "exception": false,
     "start_time": "2025-05-05T15:45:10.506636",
     "status": "completed"
    },
    "tags": []
   },
   "outputs": [],
   "source": [
    "device = torch.device(\"cuda\" if torch.cuda.is_available() else \"cpu\")\n",
    "LEARNING_RATE = 2e-4\n",
    "BATCH_SIZE = 128\n",
    "IMAGE_SIZE = 64\n",
    "CHANNELS_IMG = 3\n",
    "Z_DIM = 100\n",
    "NUM_EPOCHS = 5\n",
    "FEATURES_DISC = 64\n",
    "FEATURES_GEN = 64"
   ]
  },
  {
   "cell_type": "code",
   "execution_count": 9,
   "id": "ad63e439",
   "metadata": {
    "execution": {
     "iopub.execute_input": "2025-05-05T15:45:10.610756Z",
     "iopub.status.busy": "2025-05-05T15:45:10.610544Z",
     "iopub.status.idle": "2025-05-05T15:45:10.614416Z",
     "shell.execute_reply": "2025-05-05T15:45:10.613886Z"
    },
    "papermill": {
     "duration": 0.008094,
     "end_time": "2025-05-05T15:45:10.615384",
     "exception": false,
     "start_time": "2025-05-05T15:45:10.607290",
     "status": "completed"
    },
    "tags": []
   },
   "outputs": [],
   "source": [
    "transforms = T.Compose(\n",
    "    [\n",
    "        T.Resize(IMAGE_SIZE),\n",
    "        T.ToTensor(),\n",
    "        T.Normalize([0.5 for _ in range(CHANNELS_IMG)], [0.5 for _ in range(CHANNELS_IMG)]),\n",
    "    ]\n",
    ")"
   ]
  },
  {
   "cell_type": "code",
   "execution_count": 10,
   "id": "1d9f567a",
   "metadata": {
    "execution": {
     "iopub.execute_input": "2025-05-05T15:45:10.621339Z",
     "iopub.status.busy": "2025-05-05T15:45:10.621103Z",
     "iopub.status.idle": "2025-05-05T15:45:50.495737Z",
     "shell.execute_reply": "2025-05-05T15:45:50.495168Z"
    },
    "papermill": {
     "duration": 39.879261,
     "end_time": "2025-05-05T15:45:50.497237",
     "exception": false,
     "start_time": "2025-05-05T15:45:10.617976",
     "status": "completed"
    },
    "tags": []
   },
   "outputs": [],
   "source": [
    "# dataset = datasets.MNIST(\n",
    "#     root=\"dataset/\", \n",
    "#     train=True,\n",
    "#     transform=transforms,\n",
    "#     download=True,\n",
    "# )\n",
    "\n",
    "##Dataset MNSIT\n",
    "# dataset = datasets.ImageFolder(\n",
    "#     \"/kaggle/input/mnsit-dataset\",\n",
    "#     transform=transforms\n",
    "# )\n",
    "\n",
    "dataset = datasets.ImageFolder(\n",
    "    \"/kaggle/input/celebahq256-images-only\",\n",
    "    transform=transforms\n",
    ")"
   ]
  },
  {
   "cell_type": "code",
   "execution_count": 11,
   "id": "f7a59d3d",
   "metadata": {
    "execution": {
     "iopub.execute_input": "2025-05-05T15:45:50.503822Z",
     "iopub.status.busy": "2025-05-05T15:45:50.503620Z",
     "iopub.status.idle": "2025-05-05T15:45:50.879731Z",
     "shell.execute_reply": "2025-05-05T15:45:50.879160Z"
    },
    "papermill": {
     "duration": 0.380851,
     "end_time": "2025-05-05T15:45:50.881034",
     "exception": false,
     "start_time": "2025-05-05T15:45:50.500183",
     "status": "completed"
    },
    "tags": []
   },
   "outputs": [],
   "source": [
    "loader = torch.utils.data.DataLoader(dataset, batch_size=BATCH_SIZE, shuffle=True)\n",
    "gen = Generator(Z_DIM, CHANNELS_IMG, FEATURES_GEN).to(device)\n",
    "disc = Discriminator(CHANNELS_IMG, FEATURES_DISC).to(device)\n",
    "initialize_weights(gen)\n",
    "initialize_weights(disc)"
   ]
  },
  {
   "cell_type": "code",
   "execution_count": 12,
   "id": "c3e0e6f4",
   "metadata": {
    "execution": {
     "iopub.execute_input": "2025-05-05T15:45:50.887272Z",
     "iopub.status.busy": "2025-05-05T15:45:50.887076Z",
     "iopub.status.idle": "2025-05-05T15:45:50.893858Z",
     "shell.execute_reply": "2025-05-05T15:45:50.893371Z"
    },
    "papermill": {
     "duration": 0.011012,
     "end_time": "2025-05-05T15:45:50.894840",
     "exception": false,
     "start_time": "2025-05-05T15:45:50.883828",
     "status": "completed"
    },
    "tags": []
   },
   "outputs": [],
   "source": [
    "opt_gen = optim.Adam(gen.parameters(), lr=LEARNING_RATE, betas=(0.5, 0.999))\n",
    "opt_disc = optim.Adam(disc.parameters(), lr=LEARNING_RATE, betas=(0.5, 0.999))\n",
    "criterion = nn.BCELoss()\n",
    "\n",
    "fixed_noise = torch.randn(32, Z_DIM, 1,1).to(device)\n",
    "writer_real = SummaryWriter(f\"logs/real\")\n",
    "writer_fake = SummaryWriter(f\"logs/fake\")\n",
    "step = 0"
   ]
  },
  {
   "cell_type": "code",
   "execution_count": 13,
   "id": "1fa4bd79",
   "metadata": {
    "execution": {
     "iopub.execute_input": "2025-05-05T15:45:50.901000Z",
     "iopub.status.busy": "2025-05-05T15:45:50.900794Z",
     "iopub.status.idle": "2025-05-05T15:57:38.750590Z",
     "shell.execute_reply": "2025-05-05T15:57:38.750001Z"
    },
    "papermill": {
     "duration": 707.854403,
     "end_time": "2025-05-05T15:57:38.751838",
     "exception": false,
     "start_time": "2025-05-05T15:45:50.897435",
     "status": "completed"
    },
    "tags": []
   },
   "outputs": [
    {
     "name": "stdout",
     "output_type": "stream",
     "text": [
      "Epoch [0/5] Batch 0/235 \\ Loss D: 0.6942, loss G: 0.7791\n",
      "Epoch [0/5] Batch 100/235 \\ Loss D: 0.0174, loss G: 4.0253\n",
      "Epoch [0/5] Batch 200/235 \\ Loss D: 0.5391, loss G: 2.2249\n",
      "Epoch [1/5] Batch 0/235 \\ Loss D: 0.5694, loss G: 1.4748\n",
      "Epoch [1/5] Batch 100/235 \\ Loss D: 0.6425, loss G: 1.4744\n",
      "Epoch [1/5] Batch 200/235 \\ Loss D: 0.6491, loss G: 1.5930\n",
      "Epoch [2/5] Batch 0/235 \\ Loss D: 0.4934, loss G: 1.6942\n",
      "Epoch [2/5] Batch 100/235 \\ Loss D: 0.6479, loss G: 1.0973\n",
      "Epoch [2/5] Batch 200/235 \\ Loss D: 0.5038, loss G: 1.6904\n",
      "Epoch [3/5] Batch 0/235 \\ Loss D: 0.6148, loss G: 1.8152\n",
      "Epoch [3/5] Batch 100/235 \\ Loss D: 0.6221, loss G: 1.5617\n",
      "Epoch [3/5] Batch 200/235 \\ Loss D: 0.5430, loss G: 1.5264\n",
      "Epoch [4/5] Batch 0/235 \\ Loss D: 0.5572, loss G: 1.7510\n",
      "Epoch [4/5] Batch 100/235 \\ Loss D: 0.5557, loss G: 1.6637\n",
      "Epoch [4/5] Batch 200/235 \\ Loss D: 0.5518, loss G: 1.5329\n"
     ]
    }
   ],
   "source": [
    "gen.train()\n",
    "disc.train()\n",
    "\n",
    "for epoch in range(NUM_EPOCHS):\n",
    "    for batch_idx, (real, _) in enumerate(loader):\n",
    "        real = real.to(device)\n",
    "        noise = torch.randn((BATCH_SIZE,Z_DIM, 1,1)).to(device)\n",
    "        fake = gen(noise)\n",
    "    \n",
    "\n",
    "        ### Train Discriminator max log(D(x)) + log(1- D(G(z)))\n",
    "        disc_real = disc(real).reshape(-1)\n",
    "        loss_disc_real = criterion(disc_real, torch.ones_like(disc_real))\n",
    "        disc_fake = disc(fake).reshape(-1)\n",
    "        loss_disc_fake = criterion(disc_fake, torch.zeros_like(disc_fake))\n",
    "        loss_disc = (loss_disc_real + loss_disc_fake ) / 2\n",
    "        disc.zero_grad()\n",
    "        loss_disc.backward(retain_graph=True)\n",
    "        opt_disc.step()\n",
    "\n",
    "        ### Train Discriminator min log(1 - D(G(z))) <--> max log(D(G(z)))\n",
    "        output = disc(fake).reshape(-1)\n",
    "        loss_gen = criterion(output, torch.ones_like(output))\n",
    "        gen.zero_grad()\n",
    "        loss_gen.backward()\n",
    "        opt_gen.step()\n",
    "\n",
    "        if batch_idx % 100 == 0:\n",
    "            print(\n",
    "                f\"Epoch [{epoch}/{NUM_EPOCHS}] Batch {batch_idx}/{len(loader)} \\ Loss D: {loss_disc:.4f}, loss G: {loss_gen:.4f}\"\n",
    "            )\n",
    "\n",
    "            with torch.no_grad():\n",
    "                fake = gen(fixed_noise)\n",
    "\n",
    "                img_grid_real = torchvision.utils.make_grid(\n",
    "                    real[:32], normalize=True\n",
    "                )\n",
    "                img_grid_fake = torchvision.utils.make_grid(\n",
    "                    fake[:32], normalize=True\n",
    "                )\n",
    "\n",
    "                writer_real.add_image(\"Real\", img_grid_real, global_step=step)\n",
    "                writer_real.add_image(\"Fake\", img_grid_fake, global_step=step)\n",
    "\n",
    "                os.makedirs(\"outputs/real\", exist_ok=True)\n",
    "                os.makedirs(\"outputs/fake\", exist_ok=True)\n",
    "                \n",
    "                vutils.save_image(real[:32], f\"outputs/real/real_{step}.png\", normalize=True)\n",
    "                vutils.save_image(fake[:32], f\"outputs/fake/fake_{step}.png\", normalize=True)\n",
    "                \n",
    "            step += 1"
   ]
  },
  {
   "cell_type": "code",
   "execution_count": 14,
   "id": "8cb6c811",
   "metadata": {
    "execution": {
     "iopub.execute_input": "2025-05-05T15:57:38.759911Z",
     "iopub.status.busy": "2025-05-05T15:57:38.759681Z",
     "iopub.status.idle": "2025-05-05T15:57:38.777791Z",
     "shell.execute_reply": "2025-05-05T15:57:38.777291Z"
    },
    "papermill": {
     "duration": 0.023009,
     "end_time": "2025-05-05T15:57:38.778726",
     "exception": false,
     "start_time": "2025-05-05T15:57:38.755717",
     "status": "completed"
    },
    "tags": []
   },
   "outputs": [],
   "source": [
    "%load_ext tensorboard"
   ]
  },
  {
   "cell_type": "code",
   "execution_count": 15,
   "id": "89dc37a5",
   "metadata": {
    "execution": {
     "iopub.execute_input": "2025-05-05T15:57:38.785667Z",
     "iopub.status.busy": "2025-05-05T15:57:38.785460Z",
     "iopub.status.idle": "2025-05-05T15:57:44.865128Z",
     "shell.execute_reply": "2025-05-05T15:57:44.864355Z"
    },
    "papermill": {
     "duration": 6.084527,
     "end_time": "2025-05-05T15:57:44.866355",
     "exception": false,
     "start_time": "2025-05-05T15:57:38.781828",
     "status": "completed"
    },
    "tags": []
   },
   "outputs": [
    {
     "data": {
      "application/javascript": [
       "\n",
       "        (async () => {\n",
       "            const url = new URL(await google.colab.kernel.proxyPort(6006, {'cache': true}));\n",
       "            url.searchParams.set('tensorboardColab', 'true');\n",
       "            const iframe = document.createElement('iframe');\n",
       "            iframe.src = url;\n",
       "            iframe.setAttribute('width', '100%');\n",
       "            iframe.setAttribute('height', '800');\n",
       "            iframe.setAttribute('frameborder', 0);\n",
       "            document.body.appendChild(iframe);\n",
       "        })();\n",
       "    "
      ],
      "text/plain": [
       "<IPython.core.display.Javascript object>"
      ]
     },
     "metadata": {},
     "output_type": "display_data"
    }
   ],
   "source": [
    "%tensorboard --logdir logs"
   ]
  }
 ],
 "metadata": {
  "kaggle": {
   "accelerator": "nvidiaTeslaT4",
   "dataSources": [
    {
     "datasetId": 2531154,
     "sourceId": 4295537,
     "sourceType": "datasetVersion"
    },
    {
     "datasetId": 5007759,
     "sourceId": 8413520,
     "sourceType": "datasetVersion"
    }
   ],
   "dockerImageVersionId": 31012,
   "isGpuEnabled": true,
   "isInternetEnabled": false,
   "language": "python",
   "sourceType": "notebook"
  },
  "kernelspec": {
   "display_name": "Python 3",
   "language": "python",
   "name": "python3"
  },
  "language_info": {
   "codemirror_mode": {
    "name": "ipython",
    "version": 3
   },
   "file_extension": ".py",
   "mimetype": "text/x-python",
   "name": "python",
   "nbconvert_exporter": "python",
   "pygments_lexer": "ipython3",
   "version": "3.11.11"
  },
  "papermill": {
   "default_parameters": {},
   "duration": 786.980157,
   "end_time": "2025-05-05T15:57:47.688722",
   "environment_variables": {},
   "exception": null,
   "input_path": "__notebook__.ipynb",
   "output_path": "__notebook__.ipynb",
   "parameters": {},
   "start_time": "2025-05-05T15:44:40.708565",
   "version": "2.6.0"
  }
 },
 "nbformat": 4,
 "nbformat_minor": 5
}
